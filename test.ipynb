{
 "metadata": {
  "language_info": {
   "codemirror_mode": {
    "name": "ipython",
    "version": 3
   },
   "file_extension": ".py",
   "mimetype": "text/x-python",
   "name": "python",
   "nbconvert_exporter": "python",
   "pygments_lexer": "ipython3",
   "version": "3.8.5-final"
  },
  "orig_nbformat": 2,
  "kernelspec": {
   "name": "Python 3.8.5 64-bit",
   "display_name": "Python 3.8.5 64-bit",
   "metadata": {
    "interpreter": {
     "hash": "916dbcbb3f70747c44a77c7bcd40155683ae19c65e1c03b4aa3499c5328201f1"
    }
   }
  }
 },
 "nbformat": 4,
 "nbformat_minor": 2,
 "cells": [
  {
   "cell_type": "code",
   "execution_count": 5,
   "metadata": {},
   "outputs": [
    {
     "output_type": "execute_result",
     "data": {
      "text/plain": [
       "                          Title                             Genre  \\\n",
       "4788                     Cavite                 Foreign, Thriller   \n",
       "4789                El Mariachi           Action, Crime, Thriller   \n",
       "4790                  Newlyweds                   Comedy, Romance   \n",
       "4791  Signed, Sealed, Delivered  Comedy, Drama, Romance, TV Movie   \n",
       "4793          My Date with Drew                       Documentary   \n",
       "\n",
       "                                            Description  Rating  \n",
       "4788  Adam, a security guard, travels from Californi...     7.5  \n",
       "4789  El Mariachi just wants to play his guitar and ...     6.6  \n",
       "4790  A newlywed couple's honeymoon is upended by th...     5.9  \n",
       "4791  \"Signed, Sealed, Delivered\" introduces a dedic...     7.0  \n",
       "4793  Ever since the second grade when he first saw ...     6.3  "
      ],
      "text/html": "<div>\n<style scoped>\n    .dataframe tbody tr th:only-of-type {\n        vertical-align: middle;\n    }\n\n    .dataframe tbody tr th {\n        vertical-align: top;\n    }\n\n    .dataframe thead th {\n        text-align: right;\n    }\n</style>\n<table border=\"1\" class=\"dataframe\">\n  <thead>\n    <tr style=\"text-align: right;\">\n      <th></th>\n      <th>Title</th>\n      <th>Genre</th>\n      <th>Description</th>\n      <th>Rating</th>\n    </tr>\n  </thead>\n  <tbody>\n    <tr>\n      <th>4788</th>\n      <td>Cavite</td>\n      <td>Foreign, Thriller</td>\n      <td>Adam, a security guard, travels from Californi...</td>\n      <td>7.5</td>\n    </tr>\n    <tr>\n      <th>4789</th>\n      <td>El Mariachi</td>\n      <td>Action, Crime, Thriller</td>\n      <td>El Mariachi just wants to play his guitar and ...</td>\n      <td>6.6</td>\n    </tr>\n    <tr>\n      <th>4790</th>\n      <td>Newlyweds</td>\n      <td>Comedy, Romance</td>\n      <td>A newlywed couple's honeymoon is upended by th...</td>\n      <td>5.9</td>\n    </tr>\n    <tr>\n      <th>4791</th>\n      <td>Signed, Sealed, Delivered</td>\n      <td>Comedy, Drama, Romance, TV Movie</td>\n      <td>\"Signed, Sealed, Delivered\" introduces a dedic...</td>\n      <td>7.0</td>\n    </tr>\n    <tr>\n      <th>4793</th>\n      <td>My Date with Drew</td>\n      <td>Documentary</td>\n      <td>Ever since the second grade when he first saw ...</td>\n      <td>6.3</td>\n    </tr>\n  </tbody>\n</table>\n</div>"
     },
     "metadata": {},
     "execution_count": 5
    }
   ],
   "source": [
    "import pandas as pd\n",
    "from sklearn.feature_extraction.text import TfidfVectorizer\n",
    "from sklearn.metrics.pairwise import linear_kernel\n",
    "\n",
    "movies1 = pd.read_csv(\"datasets/IMDB-Movie-Data.csv\")\n",
    "movies2 = pd.read_csv(\"datasets/tmdb-movies.csv\")\n",
    "movies3 = pd.read_csv(\"datasets/movies.csv\")\n",
    "\n",
    "Movies = [movies1, movies2, movies3]\n",
    "result = pd.concat(Movies)\n",
    "\n",
    "useful = ['Title', 'Genre', 'Description', 'Rating']\n",
    "df = result[useful]\n",
    "\n",
    "df = df.dropna()\n",
    "\n",
    "df.tail()\n",
    "\n"
   ]
  },
  {
   "cell_type": "code",
   "execution_count": 21,
   "metadata": {},
   "outputs": [],
   "source": [
    "# // create a vectorizer\n",
    "tfidf = TfidfVectorizer(stop_words='english')\n",
    "\n",
    "tfidf_matrix = tfidf.fit_transform(df['Description'])\n",
    "\n",
    "# // cosine similarity matrix\n",
    "cosine_sim = linear_kernel(tfidf_matrix, tfidf_matrix)\n",
    "\n",
    "indices = pd.Series(df.index, index=df['Title']).drop_duplicates()\n",
    "\n"
   ]
  },
  {
   "cell_type": "code",
   "execution_count": 31,
   "metadata": {},
   "outputs": [],
   "source": [
    "def format_title(title):\n",
    "    title_list = title.split()\n",
    "    empty = ''\n",
    "    title_len = len(title_list)\n",
    "    unknown =  title_len - 1\n",
    "    names = title_list[:unknown]\n",
    "\n",
    "    for name in names:\n",
    "        capital = name.capitalize()\n",
    "        empty+= capital + ' '\n",
    "    empty+=title_list[-1].capitalize()\n",
    "    return empty"
   ]
  },
  {
   "cell_type": "code",
   "execution_count": 97,
   "metadata": {},
   "outputs": [
    {
     "output_type": "stream",
     "name": "stdout",
     "text": [
      "[{'Title': 'The Great Outdoors', 'Genre': 'Comedy', 'Description': \"It's vacation time for outdoorsy Chicago man Chet Ripley, along with his wife, Connie, and their two kids, Buck and Ben. But a serene weekend of fishing at a Wisconsin lakeside cabin gets crashed by Connie's obnoxious brother-in-law, Roman Craig, his wife, Kate, and the couple's two daughters. As the excursion wears on, the Ripleys find themselves at odds with the stuffy Craig family.\", 'Rating': 6.2}, {'Title': 'Next Friday', 'Genre': 'Comedy', 'Description': 'Ice Cube returns as Craig Jones, a streetwise man from South Central Los Angeles who has a knack for getting into trouble. This time out, Craig is still trying to outsmart neighborhood bully Debo (Tommy \"Tiny\" Lister Jr.); after Craig gets the better of Debo in a fist fight, Debo is determined to flatten Craig in a rematch. Looking to stay out of Debo\\'s way, Craig\\'s dad decides that it would be a good idea for Craig to hide out with his Uncle Elroy and cousin Day-Day in Rancho Cucamonga... but trouble seems to find him there also.', 'Rating': 6.6}, {'Title': 'Next Friday', 'Genre': 'Comedy', 'Description': 'Ice Cube returns as Craig Jones, a streetwise man from South Central Los Angeles who has a knack for getting into trouble. This time out, Craig is still trying to outsmart neighborhood bully Debo (Tommy \"Tiny\" Lister Jr.); after Craig gets the better of Debo in a fist fight, Debo is determined to flatten Craig in a rematch. Looking to stay out of Debo\\'s way, Craig\\'s dad decides that it would be a good idea for Craig to hide out with his Uncle Elroy and cousin Day-Day in Rancho Cucamonga... but trouble seems to find him there also.', 'Rating': 6.4}]\n"
     ]
    }
   ],
   "source": [
    "def get_recommendations(title, cosine_sim=cosine_sim):\n",
    "    title = format_title(title)\n",
    "\n",
    "    idx = indices[title]\n",
    "\n",
    "    sim_scores = list(enumerate(cosine_sim[idx]))\n",
    "    sim_scores = sorted(sim_scores, key=lambda x: x[1], reverse=True)\n",
    "\n",
    "    sim_scores = sim_scores[0:3]\n",
    "\n",
    "    movie_indices = [i[0] for i in sim_scores]\n",
    "    movies = df.iloc[movie_indices].to_dict('records')\n",
    "    return movies\n",
    "\n",
    "\n",
    "print(get_recommendations('Heartbreak ridge'))\n"
   ]
  },
  {
   "cell_type": "code",
   "execution_count": 17,
   "metadata": {},
   "outputs": [
    {
     "output_type": "stream",
     "name": "stdout",
     "text": [
      "{'empty': 'The Presidential Escort', 'capitalized': 'the presidential escort'}\n"
     ]
    }
   ],
   "source": []
  },
  {
   "cell_type": "code",
   "execution_count": null,
   "metadata": {},
   "outputs": [],
   "source": []
  }
 ]
}